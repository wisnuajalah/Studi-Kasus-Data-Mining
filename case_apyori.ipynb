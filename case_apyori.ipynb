{
  "nbformat": 4,
  "nbformat_minor": 0,
  "metadata": {
    "colab": {
      "provenance": []
    },
    "kernelspec": {
      "name": "python3",
      "display_name": "Python 3"
    },
    "language_info": {
      "name": "python"
    }
  },
  "cells": [
    {
      "cell_type": "markdown",
      "source": [
        "# **Analisis pemilihan ekstrakulikuler di SMA X**\n",
        "\n",
        "##### **Aturan pemilihan ekstrakulikuler:**\n",
        "1. Siswa ataupun siswi wajib mengikuti ekstrakurikuler Pramuka\n",
        "2. Siswa ataupun siswi wajib memilih min 2 ekstrakurikuler (termasuk pramuka) dan max 3 ekstrakurikuler\n",
        "3. Hanya siswa/i kelas 10 dan 11 yang boleh mengikuti kegiatan ekstrakurikuler\n",
        "\n",
        "##### **Deskripsi dataset:**\n",
        "1. Terdapat 150 data siswa/i yang tercatat dalam pemilihan kegiatan ekstrakurikuler\n",
        "2. Pada analisis ini menggunakan library apyori untuk menghitung aturan asosiasi menggunakan metode Apriori"
      ],
      "metadata": {
        "id": "jev-Gvq6_sqm"
      }
    },
    {
      "cell_type": "code",
      "execution_count": 1,
      "metadata": {
        "id": "4Yp6w5re40xn",
        "colab": {
          "base_uri": "https://localhost:8080/"
        },
        "outputId": "6cb8462f-c4ad-4733-ec16-c287ad000aac"
      },
      "outputs": [
        {
          "output_type": "stream",
          "name": "stdout",
          "text": [
            "Looking in indexes: https://pypi.org/simple, https://us-python.pkg.dev/colab-wheels/public/simple/\n",
            "Collecting apyori\n",
            "  Downloading apyori-1.1.2.tar.gz (8.6 kB)\n",
            "Building wheels for collected packages: apyori\n",
            "  Building wheel for apyori (setup.py) ... \u001b[?25l\u001b[?25hdone\n",
            "  Created wheel for apyori: filename=apyori-1.1.2-py3-none-any.whl size=5973 sha256=f3d0f3be47fad2c2002e4d6a0d327e5815ad6e7250fd5a4e311d3506fbbae103\n",
            "  Stored in directory: /root/.cache/pip/wheels/1b/02/6c/a45230be8603bd95c0a51cd2b289aefdd860c1a100eab73661\n",
            "Successfully built apyori\n",
            "Installing collected packages: apyori\n",
            "Successfully installed apyori-1.1.2\n"
          ]
        }
      ],
      "source": [
        "#menambahkan library apyori\n",
        "%pip install apyori"
      ]
    },
    {
      "cell_type": "markdown",
      "source": [
        "##### **Import pustaka (library) dan package yang dibutuhkan**\n"
      ],
      "metadata": {
        "id": "3Xwnd2HW_48g"
      }
    },
    {
      "cell_type": "code",
      "source": [
        "import numpy as np\n",
        "import pandas as pd#\n",
        "import matplotlib.pyplot as plt\n",
        "from apyori import apriori"
      ],
      "metadata": {
        "id": "6GqXjFXnAF6H"
      },
      "execution_count": 2,
      "outputs": []
    },
    {
      "cell_type": "markdown",
      "source": [
        "##### **Membaca dan menampilkan data**"
      ],
      "metadata": {
        "id": "xMiY56ceAVCZ"
      }
    },
    {
      "cell_type": "code",
      "source": [
        "data = pd.read_csv(\"data_eskul.csv\", header=None)\n",
        "data"
      ],
      "metadata": {
        "colab": {
          "base_uri": "https://localhost:8080/",
          "height": 423
        },
        "id": "WAV1YvNcAcLw",
        "outputId": "7596f550-ca80-4690-b984-404e3e58d3c9"
      },
      "execution_count": 3,
      "outputs": [
        {
          "output_type": "execute_result",
          "data": {
            "text/plain": [
              "      0                      1         2             3        4         5   \\\n",
              "0     No                   Nama     Kelas  JenisKelamin  Pramuka  Paskibra   \n",
              "1      1            ADI MULYANA  10 IPA 1             L  Pramuka  Paskibra   \n",
              "2      2           ADIK NUGROHO  10 IPA 1             L  Pramuka  Paskibra   \n",
              "3      3  AFRILIA ANGGI SAPUTRI  10 IPA 1             P  Pramuka  Paskibra   \n",
              "4      4        ALVINDI FAUZIAH  10 IPA 1             P  Pramuka       NaN   \n",
              "..   ...                    ...       ...           ...      ...       ...   \n",
              "146  146         NOLA AFITRIANI  11 IPS 2             P  Pramuka       NaN   \n",
              "147  147               NUROHMAN  11 IPS 2             L  Pramuka       NaN   \n",
              "148  148         RIZAL SETIAWAN  11 IPS 2             L  Pramuka       NaN   \n",
              "149  149        RIZKY ARIL GIAN  11 IPS 2             L  Pramuka       NaN   \n",
              "150  150         SITI ROHMAWATI  11 IPS 2             P  Pramuka       NaN   \n",
              "\n",
              "      6    7           8          9     10  \n",
              "0    PMR  KIR  VolleyBall  SepakBola  Seni  \n",
              "1    NaN  NaN         NaN        NaN   NaN  \n",
              "2    NaN  NaN         NaN        NaN   NaN  \n",
              "3    NaN  NaN         NaN        NaN   NaN  \n",
              "4    PMR  NaN         NaN        NaN   NaN  \n",
              "..   ...  ...         ...        ...   ...  \n",
              "146  PMR  NaN         NaN        NaN   NaN  \n",
              "147  NaN  KIR         NaN        NaN   NaN  \n",
              "148  NaN  NaN  VolleyBall        NaN   NaN  \n",
              "149  NaN  NaN         NaN  SepakBola   NaN  \n",
              "150  PMR  NaN         NaN        NaN  Seni  \n",
              "\n",
              "[151 rows x 11 columns]"
            ],
            "text/html": [
              "\n",
              "  <div id=\"df-2ba5eae1-c386-4982-bb94-67cffa655f63\">\n",
              "    <div class=\"colab-df-container\">\n",
              "      <div>\n",
              "<style scoped>\n",
              "    .dataframe tbody tr th:only-of-type {\n",
              "        vertical-align: middle;\n",
              "    }\n",
              "\n",
              "    .dataframe tbody tr th {\n",
              "        vertical-align: top;\n",
              "    }\n",
              "\n",
              "    .dataframe thead th {\n",
              "        text-align: right;\n",
              "    }\n",
              "</style>\n",
              "<table border=\"1\" class=\"dataframe\">\n",
              "  <thead>\n",
              "    <tr style=\"text-align: right;\">\n",
              "      <th></th>\n",
              "      <th>0</th>\n",
              "      <th>1</th>\n",
              "      <th>2</th>\n",
              "      <th>3</th>\n",
              "      <th>4</th>\n",
              "      <th>5</th>\n",
              "      <th>6</th>\n",
              "      <th>7</th>\n",
              "      <th>8</th>\n",
              "      <th>9</th>\n",
              "      <th>10</th>\n",
              "    </tr>\n",
              "  </thead>\n",
              "  <tbody>\n",
              "    <tr>\n",
              "      <th>0</th>\n",
              "      <td>No</td>\n",
              "      <td>Nama</td>\n",
              "      <td>Kelas</td>\n",
              "      <td>JenisKelamin</td>\n",
              "      <td>Pramuka</td>\n",
              "      <td>Paskibra</td>\n",
              "      <td>PMR</td>\n",
              "      <td>KIR</td>\n",
              "      <td>VolleyBall</td>\n",
              "      <td>SepakBola</td>\n",
              "      <td>Seni</td>\n",
              "    </tr>\n",
              "    <tr>\n",
              "      <th>1</th>\n",
              "      <td>1</td>\n",
              "      <td>ADI MULYANA</td>\n",
              "      <td>10 IPA 1</td>\n",
              "      <td>L</td>\n",
              "      <td>Pramuka</td>\n",
              "      <td>Paskibra</td>\n",
              "      <td>NaN</td>\n",
              "      <td>NaN</td>\n",
              "      <td>NaN</td>\n",
              "      <td>NaN</td>\n",
              "      <td>NaN</td>\n",
              "    </tr>\n",
              "    <tr>\n",
              "      <th>2</th>\n",
              "      <td>2</td>\n",
              "      <td>ADIK NUGROHO</td>\n",
              "      <td>10 IPA 1</td>\n",
              "      <td>L</td>\n",
              "      <td>Pramuka</td>\n",
              "      <td>Paskibra</td>\n",
              "      <td>NaN</td>\n",
              "      <td>NaN</td>\n",
              "      <td>NaN</td>\n",
              "      <td>NaN</td>\n",
              "      <td>NaN</td>\n",
              "    </tr>\n",
              "    <tr>\n",
              "      <th>3</th>\n",
              "      <td>3</td>\n",
              "      <td>AFRILIA ANGGI SAPUTRI</td>\n",
              "      <td>10 IPA 1</td>\n",
              "      <td>P</td>\n",
              "      <td>Pramuka</td>\n",
              "      <td>Paskibra</td>\n",
              "      <td>NaN</td>\n",
              "      <td>NaN</td>\n",
              "      <td>NaN</td>\n",
              "      <td>NaN</td>\n",
              "      <td>NaN</td>\n",
              "    </tr>\n",
              "    <tr>\n",
              "      <th>4</th>\n",
              "      <td>4</td>\n",
              "      <td>ALVINDI FAUZIAH</td>\n",
              "      <td>10 IPA 1</td>\n",
              "      <td>P</td>\n",
              "      <td>Pramuka</td>\n",
              "      <td>NaN</td>\n",
              "      <td>PMR</td>\n",
              "      <td>NaN</td>\n",
              "      <td>NaN</td>\n",
              "      <td>NaN</td>\n",
              "      <td>NaN</td>\n",
              "    </tr>\n",
              "    <tr>\n",
              "      <th>...</th>\n",
              "      <td>...</td>\n",
              "      <td>...</td>\n",
              "      <td>...</td>\n",
              "      <td>...</td>\n",
              "      <td>...</td>\n",
              "      <td>...</td>\n",
              "      <td>...</td>\n",
              "      <td>...</td>\n",
              "      <td>...</td>\n",
              "      <td>...</td>\n",
              "      <td>...</td>\n",
              "    </tr>\n",
              "    <tr>\n",
              "      <th>146</th>\n",
              "      <td>146</td>\n",
              "      <td>NOLA AFITRIANI</td>\n",
              "      <td>11 IPS 2</td>\n",
              "      <td>P</td>\n",
              "      <td>Pramuka</td>\n",
              "      <td>NaN</td>\n",
              "      <td>PMR</td>\n",
              "      <td>NaN</td>\n",
              "      <td>NaN</td>\n",
              "      <td>NaN</td>\n",
              "      <td>NaN</td>\n",
              "    </tr>\n",
              "    <tr>\n",
              "      <th>147</th>\n",
              "      <td>147</td>\n",
              "      <td>NUROHMAN</td>\n",
              "      <td>11 IPS 2</td>\n",
              "      <td>L</td>\n",
              "      <td>Pramuka</td>\n",
              "      <td>NaN</td>\n",
              "      <td>NaN</td>\n",
              "      <td>KIR</td>\n",
              "      <td>NaN</td>\n",
              "      <td>NaN</td>\n",
              "      <td>NaN</td>\n",
              "    </tr>\n",
              "    <tr>\n",
              "      <th>148</th>\n",
              "      <td>148</td>\n",
              "      <td>RIZAL SETIAWAN</td>\n",
              "      <td>11 IPS 2</td>\n",
              "      <td>L</td>\n",
              "      <td>Pramuka</td>\n",
              "      <td>NaN</td>\n",
              "      <td>NaN</td>\n",
              "      <td>NaN</td>\n",
              "      <td>VolleyBall</td>\n",
              "      <td>NaN</td>\n",
              "      <td>NaN</td>\n",
              "    </tr>\n",
              "    <tr>\n",
              "      <th>149</th>\n",
              "      <td>149</td>\n",
              "      <td>RIZKY ARIL GIAN</td>\n",
              "      <td>11 IPS 2</td>\n",
              "      <td>L</td>\n",
              "      <td>Pramuka</td>\n",
              "      <td>NaN</td>\n",
              "      <td>NaN</td>\n",
              "      <td>NaN</td>\n",
              "      <td>NaN</td>\n",
              "      <td>SepakBola</td>\n",
              "      <td>NaN</td>\n",
              "    </tr>\n",
              "    <tr>\n",
              "      <th>150</th>\n",
              "      <td>150</td>\n",
              "      <td>SITI ROHMAWATI</td>\n",
              "      <td>11 IPS 2</td>\n",
              "      <td>P</td>\n",
              "      <td>Pramuka</td>\n",
              "      <td>NaN</td>\n",
              "      <td>PMR</td>\n",
              "      <td>NaN</td>\n",
              "      <td>NaN</td>\n",
              "      <td>NaN</td>\n",
              "      <td>Seni</td>\n",
              "    </tr>\n",
              "  </tbody>\n",
              "</table>\n",
              "<p>151 rows × 11 columns</p>\n",
              "</div>\n",
              "      <button class=\"colab-df-convert\" onclick=\"convertToInteractive('df-2ba5eae1-c386-4982-bb94-67cffa655f63')\"\n",
              "              title=\"Convert this dataframe to an interactive table.\"\n",
              "              style=\"display:none;\">\n",
              "        \n",
              "  <svg xmlns=\"http://www.w3.org/2000/svg\" height=\"24px\"viewBox=\"0 0 24 24\"\n",
              "       width=\"24px\">\n",
              "    <path d=\"M0 0h24v24H0V0z\" fill=\"none\"/>\n",
              "    <path d=\"M18.56 5.44l.94 2.06.94-2.06 2.06-.94-2.06-.94-.94-2.06-.94 2.06-2.06.94zm-11 1L8.5 8.5l.94-2.06 2.06-.94-2.06-.94L8.5 2.5l-.94 2.06-2.06.94zm10 10l.94 2.06.94-2.06 2.06-.94-2.06-.94-.94-2.06-.94 2.06-2.06.94z\"/><path d=\"M17.41 7.96l-1.37-1.37c-.4-.4-.92-.59-1.43-.59-.52 0-1.04.2-1.43.59L10.3 9.45l-7.72 7.72c-.78.78-.78 2.05 0 2.83L4 21.41c.39.39.9.59 1.41.59.51 0 1.02-.2 1.41-.59l7.78-7.78 2.81-2.81c.8-.78.8-2.07 0-2.86zM5.41 20L4 18.59l7.72-7.72 1.47 1.35L5.41 20z\"/>\n",
              "  </svg>\n",
              "      </button>\n",
              "      \n",
              "  <style>\n",
              "    .colab-df-container {\n",
              "      display:flex;\n",
              "      flex-wrap:wrap;\n",
              "      gap: 12px;\n",
              "    }\n",
              "\n",
              "    .colab-df-convert {\n",
              "      background-color: #E8F0FE;\n",
              "      border: none;\n",
              "      border-radius: 50%;\n",
              "      cursor: pointer;\n",
              "      display: none;\n",
              "      fill: #1967D2;\n",
              "      height: 32px;\n",
              "      padding: 0 0 0 0;\n",
              "      width: 32px;\n",
              "    }\n",
              "\n",
              "    .colab-df-convert:hover {\n",
              "      background-color: #E2EBFA;\n",
              "      box-shadow: 0px 1px 2px rgba(60, 64, 67, 0.3), 0px 1px 3px 1px rgba(60, 64, 67, 0.15);\n",
              "      fill: #174EA6;\n",
              "    }\n",
              "\n",
              "    [theme=dark] .colab-df-convert {\n",
              "      background-color: #3B4455;\n",
              "      fill: #D2E3FC;\n",
              "    }\n",
              "\n",
              "    [theme=dark] .colab-df-convert:hover {\n",
              "      background-color: #434B5C;\n",
              "      box-shadow: 0px 1px 3px 1px rgba(0, 0, 0, 0.15);\n",
              "      filter: drop-shadow(0px 1px 2px rgba(0, 0, 0, 0.3));\n",
              "      fill: #FFFFFF;\n",
              "    }\n",
              "  </style>\n",
              "\n",
              "      <script>\n",
              "        const buttonEl =\n",
              "          document.querySelector('#df-2ba5eae1-c386-4982-bb94-67cffa655f63 button.colab-df-convert');\n",
              "        buttonEl.style.display =\n",
              "          google.colab.kernel.accessAllowed ? 'block' : 'none';\n",
              "\n",
              "        async function convertToInteractive(key) {\n",
              "          const element = document.querySelector('#df-2ba5eae1-c386-4982-bb94-67cffa655f63');\n",
              "          const dataTable =\n",
              "            await google.colab.kernel.invokeFunction('convertToInteractive',\n",
              "                                                     [key], {});\n",
              "          if (!dataTable) return;\n",
              "\n",
              "          const docLinkHtml = 'Like what you see? Visit the ' +\n",
              "            '<a target=\"_blank\" href=https://colab.research.google.com/notebooks/data_table.ipynb>data table notebook</a>'\n",
              "            + ' to learn more about interactive tables.';\n",
              "          element.innerHTML = '';\n",
              "          dataTable['output_type'] = 'display_data';\n",
              "          await google.colab.output.renderOutput(dataTable, element);\n",
              "          const docLink = document.createElement('div');\n",
              "          docLink.innerHTML = docLinkHtml;\n",
              "          element.appendChild(docLink);\n",
              "        }\n",
              "      </script>\n",
              "    </div>\n",
              "  </div>\n",
              "  "
            ]
          },
          "metadata": {},
          "execution_count": 3
        }
      ]
    },
    {
      "cell_type": "markdown",
      "source": [
        "##### **Preprocessing data**\n",
        "Disini kami membuat data .csv menjadi sebuah list(array) untuk digunakan pada Algoritma Apriori"
      ],
      "metadata": {
        "id": "kAjbyszuAjJm"
      }
    },
    {
      "cell_type": "code",
      "source": [
        "records = []\n",
        "for i in range(1, 150): #mengambil data siswa/i dari data ke-1 sampai dengan 150\n",
        "    records.append([str(data.values[i, j]) for j in range(4, 10)]) #menggunakan variabel esktrakulikuler\n",
        "    \n",
        "print(type(records))"
      ],
      "metadata": {
        "colab": {
          "base_uri": "https://localhost:8080/"
        },
        "id": "7ehRACRuA3TV",
        "outputId": "13702faf-3e29-4ad0-8816-0b84f9f4deca"
      },
      "execution_count": 30,
      "outputs": [
        {
          "output_type": "stream",
          "name": "stdout",
          "text": [
            "<class 'list'>\n"
          ]
        }
      ]
    },
    {
      "cell_type": "markdown",
      "source": [
        "##### **Algoritma Apriori**\n",
        "1. Disini kami akan menerapkan algoritma apriori pada data\n",
        "2. Kami telah menyediakan sample-set untuk menemukan value dari min_support dan min_confidence"
      ],
      "metadata": {
        "id": "NElhyVxtA-R3"
      }
    },
    {
      "cell_type": "code",
      "source": [
        "association_rules = apriori(records, min_support=0.06, min_confidence=0.06)\n",
        "association_results = list(association_rules)"
      ],
      "metadata": {
        "id": "AFovkPBCBhaj"
      },
      "execution_count": 26,
      "outputs": []
    },
    {
      "cell_type": "code",
      "source": [
        "print(\"Ada {} relasi yang didapatkan.\".format(len(association_results)))"
      ],
      "metadata": {
        "colab": {
          "base_uri": "https://localhost:8080/"
        },
        "id": "rRp_Hp_JBpaZ",
        "outputId": "24f9d51f-2632-4bef-d383-32d151f4d2fb"
      },
      "execution_count": 27,
      "outputs": [
        {
          "output_type": "stream",
          "name": "stdout",
          "text": [
            "Ada 23 relasi yang didapatkan.\n"
          ]
        }
      ]
    },
    {
      "cell_type": "code",
      "source": [
        "for i in range(0, len(association_results)):\n",
        "    print(association_results[i][0])"
      ],
      "metadata": {
        "colab": {
          "base_uri": "https://localhost:8080/"
        },
        "id": "5xvGoG2jBtK3",
        "outputId": "a30ea275-0e12-4729-d797-6611e64b16ec"
      },
      "execution_count": 28,
      "outputs": [
        {
          "output_type": "stream",
          "name": "stdout",
          "text": [
            "frozenset({'KIR'})\n",
            "frozenset({'PMR'})\n",
            "frozenset({'Paskibra'})\n",
            "frozenset({'Pramuka'})\n",
            "frozenset({'SepakBola'})\n",
            "frozenset({'VolleyBall'})\n",
            "frozenset({'nan'})\n",
            "frozenset({'Pramuka', 'KIR'})\n",
            "frozenset({'nan', 'KIR'})\n",
            "frozenset({'PMR', 'Pramuka'})\n",
            "frozenset({'nan', 'PMR'})\n",
            "frozenset({'Paskibra', 'Pramuka'})\n",
            "frozenset({'nan', 'Paskibra'})\n",
            "frozenset({'SepakBola', 'Pramuka'})\n",
            "frozenset({'Pramuka', 'VolleyBall'})\n",
            "frozenset({'nan', 'Pramuka'})\n",
            "frozenset({'nan', 'SepakBola'})\n",
            "frozenset({'nan', 'VolleyBall'})\n",
            "frozenset({'nan', 'Pramuka', 'KIR'})\n",
            "frozenset({'nan', 'PMR', 'Pramuka'})\n",
            "frozenset({'nan', 'Paskibra', 'Pramuka'})\n",
            "frozenset({'nan', 'SepakBola', 'Pramuka'})\n",
            "frozenset({'nan', 'Pramuka', 'VolleyBall'})\n"
          ]
        }
      ]
    },
    {
      "cell_type": "code",
      "source": [
        "for item in association_results:\n",
        "  if(items[0]!='0'):\n",
        "    #index pertama dari daftar dalam yang berisi item dasar dan item yang ditambahkan\n",
        "    pair = item[0]\n",
        "    items = [x for x in pair]\n",
        "    print(\"Rule: \" + items[0])\n",
        "\n",
        "    #index kedua dari daftar list\n",
        "    print(\"Support: \" + str(item[1]))\n",
        "\n",
        "    #indeks ketiga dari daftar yang terletak di 0\n",
        "    print(\"Confidence: \" + str(item[2][0][2]))\n",
        "    print(\"Lift: \" + str(item[2][0][3]))\n",
        "    print(\"=====================================\")"
      ],
      "metadata": {
        "colab": {
          "base_uri": "https://localhost:8080/"
        },
        "id": "MUpBMYOWB-w2",
        "outputId": "a9e62f29-0072-4563-c698-dfca93d1b3e0"
      },
      "execution_count": 29,
      "outputs": [
        {
          "output_type": "stream",
          "name": "stdout",
          "text": [
            "Rule: KIR\n",
            "Support: 0.26174496644295303\n",
            "Confidence: 0.26174496644295303\n",
            "Lift: 1.0\n",
            "=====================================\n",
            "Rule: PMR\n",
            "Support: 0.2214765100671141\n",
            "Confidence: 0.2214765100671141\n",
            "Lift: 1.0\n",
            "=====================================\n",
            "Rule: Paskibra\n",
            "Support: 0.24161073825503357\n",
            "Confidence: 0.24161073825503357\n",
            "Lift: 1.0\n",
            "=====================================\n",
            "Rule: Pramuka\n",
            "Support: 1.0\n",
            "Confidence: 1.0\n",
            "Lift: 1.0\n",
            "=====================================\n",
            "Rule: SepakBola\n",
            "Support: 0.18120805369127516\n",
            "Confidence: 0.18120805369127516\n",
            "Lift: 1.0\n",
            "=====================================\n",
            "Rule: VolleyBall\n",
            "Support: 0.2080536912751678\n",
            "Confidence: 0.2080536912751678\n",
            "Lift: 1.0\n",
            "=====================================\n",
            "Rule: nan\n",
            "Support: 1.0\n",
            "Confidence: 1.0\n",
            "Lift: 1.0\n",
            "=====================================\n",
            "Rule: Pramuka\n",
            "Support: 0.26174496644295303\n",
            "Confidence: 0.26174496644295303\n",
            "Lift: 1.0\n",
            "=====================================\n",
            "Rule: nan\n",
            "Support: 0.26174496644295303\n",
            "Confidence: 0.26174496644295303\n",
            "Lift: 1.0\n",
            "=====================================\n",
            "Rule: PMR\n",
            "Support: 0.2214765100671141\n",
            "Confidence: 0.2214765100671141\n",
            "Lift: 1.0\n",
            "=====================================\n",
            "Rule: nan\n",
            "Support: 0.2214765100671141\n",
            "Confidence: 0.2214765100671141\n",
            "Lift: 1.0\n",
            "=====================================\n",
            "Rule: Paskibra\n",
            "Support: 0.24161073825503357\n",
            "Confidence: 0.24161073825503357\n",
            "Lift: 1.0\n",
            "=====================================\n",
            "Rule: nan\n",
            "Support: 0.24161073825503357\n",
            "Confidence: 0.24161073825503357\n",
            "Lift: 1.0\n",
            "=====================================\n",
            "Rule: SepakBola\n",
            "Support: 0.18120805369127516\n",
            "Confidence: 0.18120805369127516\n",
            "Lift: 1.0\n",
            "=====================================\n",
            "Rule: Pramuka\n",
            "Support: 0.2080536912751678\n",
            "Confidence: 0.2080536912751678\n",
            "Lift: 1.0\n",
            "=====================================\n",
            "Rule: nan\n",
            "Support: 1.0\n",
            "Confidence: 1.0\n",
            "Lift: 1.0\n",
            "=====================================\n",
            "Rule: nan\n",
            "Support: 0.18120805369127516\n",
            "Confidence: 0.18120805369127516\n",
            "Lift: 1.0\n",
            "=====================================\n",
            "Rule: nan\n",
            "Support: 0.2080536912751678\n",
            "Confidence: 0.2080536912751678\n",
            "Lift: 1.0\n",
            "=====================================\n",
            "Rule: nan\n",
            "Support: 0.26174496644295303\n",
            "Confidence: 0.26174496644295303\n",
            "Lift: 1.0\n",
            "=====================================\n",
            "Rule: nan\n",
            "Support: 0.2214765100671141\n",
            "Confidence: 0.2214765100671141\n",
            "Lift: 1.0\n",
            "=====================================\n",
            "Rule: nan\n",
            "Support: 0.24161073825503357\n",
            "Confidence: 0.24161073825503357\n",
            "Lift: 1.0\n",
            "=====================================\n",
            "Rule: nan\n",
            "Support: 0.18120805369127516\n",
            "Confidence: 0.18120805369127516\n",
            "Lift: 1.0\n",
            "=====================================\n",
            "Rule: nan\n",
            "Support: 0.2080536912751678\n",
            "Confidence: 0.2080536912751678\n",
            "Lift: 1.0\n",
            "=====================================\n"
          ]
        }
      ]
    }
  ]
}